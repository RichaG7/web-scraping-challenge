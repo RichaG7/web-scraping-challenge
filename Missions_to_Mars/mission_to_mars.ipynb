{
 "cells": [
  {
   "cell_type": "code",
   "execution_count": 8,
   "metadata": {},
   "outputs": [],
   "source": [
    "#import dependencies \n",
    "from splinter import Browser\n",
    "from bs4 import BeautifulSoup as bs\n",
    "import time \n",
    "import pandas as pd\n",
    "import re\n",
    "import time\n",
    "import numpy as np"
   ]
  },
  {
   "cell_type": "code",
   "execution_count": 60,
   "metadata": {},
   "outputs": [],
   "source": [
    "def init_browser():\n",
    "    executable_path = {\"executable_path\": \"/usr/local/bin/chromedriver\"}\n",
    "    return Browser(\"chrome\", **executable_path, headless=False)\n",
    "\n",
    "def scrape():\n",
    "\n",
    "    browser = init_browser()\n",
    "    \n",
    "    #get latest tweet \n",
    "    handle = \"marswxreport\"\n",
    "    query=\"InSight\"\n",
    "    \n",
    "    twitter_url = f'https://twitter.com/{handle}?lang=en'\n",
    "    \n",
    "    browser.visit(twitter_url)\n",
    "    \n",
    "    time.sleep(3)\n",
    "\n",
    "    pattern = re.compile(query)\n",
    "\n",
    "    html_twitter = browser.html\n",
    "    soup_twitter = bs(html_twitter, 'html.parser')\n",
    "\n",
    "    tweet = soup_twitter.find('span', text=pattern).text \n",
    "    \n",
    "    #get news title and article\n",
    "    news_url = \"https://mars.nasa.gov/news/?page=0&per_page=40&order=publish_date+desc%2Ccreated_at+desc&search=&category=19%2C165%2C184%2C204&blank_scope=Latest\"\n",
    "    \n",
    "    browser.visit(news_url)\n",
    "    \n",
    "    time.sleep(3)\n",
    "\n",
    "    html_news = browser.html\n",
    "    soup_news = bs(html_news, 'html.parser')\n",
    "\n",
    "    news_title = soup_news.find('div', class_=\"list_text\").a.text\n",
    "    news_article = soup_news.find('div', class_=\"article_teaser_body\").text \n",
    "    \n",
    "    #get featured image\n",
    "    image_url = \"https://www.jpl.nasa.gov/spaceimages/?search=&category=Mars\"\n",
    "    \n",
    "    browser.visit(image_url)\n",
    "    browser.click_link_by_partial_text('FULL IMAGE')\n",
    "    browser.click_link_by_partial_text('more info')\n",
    "    \n",
    "    time.sleep(3)\n",
    "\n",
    "    html_image = browser.html\n",
    "    soup_image = bs(html_image, 'html.parser')\n",
    "\n",
    "    featured_image = soup_image.find('figure', class_='lede').a[\"href\"]\n",
    "    \n",
    "    #store data in a dictionary\n",
    "    results = {\n",
    "        'news_title': news_title,\n",
    "        'news_article': news_article,\n",
    "        'tweet': tweet,\n",
    "        'featured_image': featured_image\n",
    "#         'tweet': tweets,\n",
    "#         'likes': likes,\n",
    "#         'comments': comments,\n",
    "#         'retweets': retweets\n",
    "    }\n",
    "        \n",
    "    #close the browser\n",
    "    browser.quit()\n",
    "    \n",
    "    return results\n"
   ]
  },
  {
   "cell_type": "code",
   "execution_count": 61,
   "metadata": {},
   "outputs": [
    {
     "name": "stderr",
     "output_type": "stream",
     "text": [
      "/Users/richagautam/opt/anaconda3/lib/python3.7/site-packages/splinter/driver/webdriver/__init__.py:528: FutureWarning: browser.find_link_by_partial_text is deprecated. Use browser.links.find_by_partial_text instead.\n",
      "  FutureWarning,\n"
     ]
    },
    {
     "data": {
      "text/plain": [
       "{'news_title': \"NASA's Perseverance Rover Mission Getting in Shape for Launch\",\n",
       " 'news_article': 'Stacking spacecraft components on top of each other is one of the final assembly steps before a mission launches to the Red Planet. ',\n",
       " 'tweet': 'InSight sol 514 (2020-05-07) low -92.3ºC (-134.1ºF) high -2.8ºC (27.0ºF)\\nwinds from the SW at 5.2 m/s (11.6 mph) gusting to 16.8 m/s (37.5 mph)\\npressure at 6.90 hPa',\n",
       " 'featured_image': '/spaceimages/images/largesize/PIA19808_hires.jpg'}"
      ]
     },
     "execution_count": 61,
     "metadata": {},
     "output_type": "execute_result"
    }
   ],
   "source": [
    "scrape()"
   ]
  },
  {
   "cell_type": "code",
   "execution_count": null,
   "metadata": {},
   "outputs": [],
   "source": []
  },
  {
   "cell_type": "code",
   "execution_count": null,
   "metadata": {},
   "outputs": [],
   "source": []
  }
 ],
 "metadata": {
  "kernelspec": {
   "display_name": "Python 3",
   "language": "python",
   "name": "python3"
  },
  "language_info": {
   "codemirror_mode": {
    "name": "ipython",
    "version": 3
   },
   "file_extension": ".py",
   "mimetype": "text/x-python",
   "name": "python",
   "nbconvert_exporter": "python",
   "pygments_lexer": "ipython3",
   "version": "3.7.4"
  }
 },
 "nbformat": 4,
 "nbformat_minor": 2
}
